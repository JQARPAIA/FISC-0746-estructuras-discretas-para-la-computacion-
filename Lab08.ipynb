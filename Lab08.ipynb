{
  "nbformat": 4,
  "nbformat_minor": 0,
  "metadata": {
    "colab": {
      "name": "Lab08.ipynb",
      "version": "0.3.2",
      "provenance": [],
      "collapsed_sections": []
    },
    "kernelspec": {
      "name": "python3",
      "display_name": "Python 3"
    }
  },
  "cells": [
    {
      "cell_type": "markdown",
      "metadata": {
        "id": "OWVGX4mggj4Z",
        "colab_type": "text"
      },
      "source": [
        "#Diccionarios"
      ]
    },
    {
      "cell_type": "code",
      "metadata": {
        "id": "cohiWYbQfipK",
        "colab_type": "code",
        "outputId": "0501b355-f20f-4714-ae46-c53d2ddfd202",
        "colab": {
          "base_uri": "https://localhost:8080/",
          "height": 34
        }
      },
      "source": [
        "#Declaracion\n",
        "codigo_paises = {\"Finland\": 'fi', \"South Africa\": 'za', \"Nepal\": 'np', \"Panama\": 'pa'}\n",
        "#impresion\n",
        "codigo_paises"
      ],
      "execution_count": 0,
      "outputs": [
        {
          "output_type": "execute_result",
          "data": {
            "text/plain": [
              "{'Finland': 'fi', 'Nepal': 'np', 'Panama': 'pa', 'South Africa': 'za'}"
            ]
          },
          "metadata": {
            "tags": []
          },
          "execution_count": 10
        }
      ]
    },
    {
      "cell_type": "code",
      "metadata": {
        "id": "6x93uTR6hUUt",
        "colab_type": "code",
        "outputId": "7b60c3c0-7333-49bd-9edf-1b55ec2e9ae6",
        "colab": {
          "base_uri": "https://localhost:8080/",
          "height": 34
        }
      },
      "source": [
        "#Determinar tamaño\n",
        "len(codigo_paises)"
      ],
      "execution_count": 0,
      "outputs": [
        {
          "output_type": "execute_result",
          "data": {
            "text/plain": [
              "4"
            ]
          },
          "metadata": {
            "tags": []
          },
          "execution_count": 7
        }
      ]
    },
    {
      "cell_type": "code",
      "metadata": {
        "id": "Z_qJ1F6Mh_oD",
        "colab_type": "code",
        "outputId": "88ba7827-d758-4b5e-fe97-be79a117b337",
        "colab": {
          "base_uri": "https://localhost:8080/",
          "height": 34
        }
      },
      "source": [
        "if codigo_paises:\n",
        "  print(\"El diccionario tiene elementos.\")\n",
        "else:\n",
        "  print(\"El diccionario no tiene elementos.\")"
      ],
      "execution_count": 0,
      "outputs": [
        {
          "output_type": "stream",
          "text": [
            "El diccionario tiene elementos.\n"
          ],
          "name": "stdout"
        }
      ]
    },
    {
      "cell_type": "code",
      "metadata": {
        "id": "WQnByfhjihba",
        "colab_type": "code",
        "outputId": "c0cabec8-1c1e-48db-ca0c-871c5a1084e4",
        "colab": {
          "base_uri": "https://localhost:8080/",
          "height": 34
        }
      },
      "source": [
        "#Eliminar los elementos del diccionario \n",
        "codigo_paises.clear()\n",
        "if codigo_paises:\n",
        "  print(\"El diccionario tiene elementos.\")\n",
        "else:\n",
        "  print(\"El diccionario no tiene elementos.\")"
      ],
      "execution_count": 0,
      "outputs": [
        {
          "output_type": "stream",
          "text": [
            "El diccionario no tiene elementos.\n"
          ],
          "name": "stdout"
        }
      ]
    },
    {
      "cell_type": "markdown",
      "metadata": {
        "id": "sl7NjIQMk0av",
        "colab_type": "text"
      },
      "source": [
        "#Tarea #1"
      ]
    },
    {
      "cell_type": "code",
      "metadata": {
        "id": "AujqZxEIjvrz",
        "colab_type": "code",
        "outputId": "9556d303-659d-4b35-a5f5-eca97e70beb6",
        "colab": {
          "base_uri": "https://localhost:8080/",
          "height": 85
        }
      },
      "source": [
        "#Declaracion\n",
        "codigo_paises = {\"Finland\": 'fi', \"South Africa\": 'za', \"Nepal\": 'np', \"Panama\": 'pa'}\n",
        "for pais, codigo in codigo_paises.items():\n",
        "  print(f'{codigo} es el codigo de {pais}')\n",
        "  "
      ],
      "execution_count": 0,
      "outputs": [
        {
          "output_type": "stream",
          "text": [
            "fi es el codigo de Finland\n",
            "za es el codigo de South Africa\n",
            "np es el codigo de Nepal\n",
            "pa es el codigo de Panama\n"
          ],
          "name": "stdout"
        }
      ]
    },
    {
      "cell_type": "code",
      "metadata": {
        "id": "oZydfH1el7Cb",
        "colab_type": "code",
        "outputId": "7404cf9f-ad6c-4cfa-8d24-b4bc050db709",
        "colab": {
          "base_uri": "https://localhost:8080/",
          "height": 34
        }
      },
      "source": [
        "numeros_romanos={'I':1, 'II':2, 'III':3, 'IV':4, 'V':5, 'X':100}\n",
        "numeros_romanos"
      ],
      "execution_count": 0,
      "outputs": [
        {
          "output_type": "execute_result",
          "data": {
            "text/plain": [
              "{'I': 1, 'II': 2, 'III': 3, 'IV': 4, 'V': 5, 'X': 100}"
            ]
          },
          "metadata": {
            "tags": []
          },
          "execution_count": 21
        }
      ]
    },
    {
      "cell_type": "code",
      "metadata": {
        "id": "1pIvsw-EmhxL",
        "colab_type": "code",
        "outputId": "8d13f3e3-4036-493e-89a7-9dbc563867c7",
        "colab": {
          "base_uri": "https://localhost:8080/",
          "height": 34
        }
      },
      "source": [
        "numeros_romanos['V']"
      ],
      "execution_count": 0,
      "outputs": [
        {
          "output_type": "execute_result",
          "data": {
            "text/plain": [
              "5"
            ]
          },
          "metadata": {
            "tags": []
          },
          "execution_count": 22
        }
      ]
    },
    {
      "cell_type": "code",
      "metadata": {
        "id": "Lh-ffClZmwfS",
        "colab_type": "code",
        "outputId": "4a40ac81-8fe6-4a3a-c99c-c95a41a5cc47",
        "colab": {
          "base_uri": "https://localhost:8080/",
          "height": 34
        }
      },
      "source": [
        "numeros_romanos['X']=10\n",
        "numeros_romanos"
      ],
      "execution_count": 0,
      "outputs": [
        {
          "output_type": "execute_result",
          "data": {
            "text/plain": [
              "{'I': 1, 'II': 2, 'III': 3, 'IV': 4, 'V': 5, 'X': 10}"
            ]
          },
          "metadata": {
            "tags": []
          },
          "execution_count": 24
        }
      ]
    },
    {
      "cell_type": "code",
      "metadata": {
        "id": "iZYrDwLPnXvB",
        "colab_type": "code",
        "outputId": "7f2b267c-e01c-46ac-ac2f-c046a3fabf04",
        "colab": {
          "base_uri": "https://localhost:8080/",
          "height": 34
        }
      },
      "source": [
        "#Agregar un keys y valor al diccionario\n",
        "numeros_romanos['L']=50\n",
        "numeros_romanos"
      ],
      "execution_count": 0,
      "outputs": [
        {
          "output_type": "execute_result",
          "data": {
            "text/plain": [
              "{'I': 1, 'II': 2, 'III': 3, 'IV': 4, 'L': 50, 'V': 5, 'X': 10}"
            ]
          },
          "metadata": {
            "tags": []
          },
          "execution_count": 31
        }
      ]
    },
    {
      "cell_type": "code",
      "metadata": {
        "id": "u8gEHo0XpfG0",
        "colab_type": "code",
        "outputId": "34654ba3-5112-4bd2-fc6a-80b031f750f9",
        "colab": {
          "base_uri": "https://localhost:8080/",
          "height": 34
        }
      },
      "source": [
        "#Impresion\n",
        "numeros_romanos"
      ],
      "execution_count": 0,
      "outputs": [
        {
          "output_type": "execute_result",
          "data": {
            "text/plain": [
              "{'I': 1, 'II': 2, 'III': 3, 'IV': 4, 'L': 50, 'V': 5}"
            ]
          },
          "metadata": {
            "tags": []
          },
          "execution_count": 48
        }
      ]
    },
    {
      "cell_type": "code",
      "metadata": {
        "id": "CW6CtvS8ptkS",
        "colab_type": "code",
        "outputId": "15fe352a-99f3-4e1d-d5b1-31366b8c08e3",
        "colab": {
          "base_uri": "https://localhost:8080/",
          "height": 34
        }
      },
      "source": [
        "#Eliminacion\n",
        "numeros_romanos.pop('X')"
      ],
      "execution_count": 0,
      "outputs": [
        {
          "output_type": "execute_result",
          "data": {
            "text/plain": [
              "10"
            ]
          },
          "metadata": {
            "tags": []
          },
          "execution_count": 46
        }
      ]
    },
    {
      "cell_type": "code",
      "metadata": {
        "id": "rCdwg9QkqReH",
        "colab_type": "code",
        "colab": {}
      },
      "source": [
        "#Eliminacion\n",
        "del numeros_romanos['III']"
      ],
      "execution_count": 0,
      "outputs": []
    },
    {
      "cell_type": "code",
      "metadata": {
        "id": "gEM745CWpzY_",
        "colab_type": "code",
        "outputId": "a9fda551-b32e-4d27-ce06-3a7486a2d783",
        "colab": {
          "base_uri": "https://localhost:8080/",
          "height": 34
        }
      },
      "source": [
        "numeros_romanos"
      ],
      "execution_count": 0,
      "outputs": [
        {
          "output_type": "execute_result",
          "data": {
            "text/plain": [
              "{'I': 1, 'II': 2, 'IV': 4, 'L': 50, 'V': 5}"
            ]
          },
          "metadata": {
            "tags": []
          },
          "execution_count": 50
        }
      ]
    },
    {
      "cell_type": "code",
      "metadata": {
        "id": "3bNkKB7gp6PF",
        "colab_type": "code",
        "outputId": "78e7fc9b-db21-4622-cb38-a627c82d8645",
        "colab": {
          "base_uri": "https://localhost:8080/",
          "height": 34
        }
      },
      "source": [
        "#Imprimir las keys\n",
        "numeros_romanos.get('III', 'III no está en el diccionario')"
      ],
      "execution_count": 0,
      "outputs": [
        {
          "output_type": "execute_result",
          "data": {
            "text/plain": [
              "'III no está en el diccionario'"
            ]
          },
          "metadata": {
            "tags": []
          },
          "execution_count": 51
        }
      ]
    },
    {
      "cell_type": "code",
      "metadata": {
        "id": "UC8RK4Xprcj0",
        "colab_type": "code",
        "outputId": "1a91689b-8038-4e37-a4ce-23d1f6ad1aff",
        "colab": {
          "base_uri": "https://localhost:8080/",
          "height": 34
        }
      },
      "source": [
        "#Verifica si las llaves/keys esta en el diccionario\n",
        "'V' in numeros_romanos"
      ],
      "execution_count": 0,
      "outputs": [
        {
          "output_type": "execute_result",
          "data": {
            "text/plain": [
              "True"
            ]
          },
          "metadata": {
            "tags": []
          },
          "execution_count": 52
        }
      ]
    },
    {
      "cell_type": "code",
      "metadata": {
        "id": "qxs_qvejryEb",
        "colab_type": "code",
        "outputId": "25c9799c-9afe-4a99-cee7-3a8aabdc2021",
        "colab": {
          "base_uri": "https://localhost:8080/",
          "height": 34
        }
      },
      "source": [
        "'II' not in numeros_romanos"
      ],
      "execution_count": 0,
      "outputs": [
        {
          "output_type": "execute_result",
          "data": {
            "text/plain": [
              "False"
            ]
          },
          "metadata": {
            "tags": []
          },
          "execution_count": 55
        }
      ]
    },
    {
      "cell_type": "code",
      "metadata": {
        "id": "hMRuSWqqriVv",
        "colab_type": "code",
        "outputId": "3af50e70-7d01-4c1e-abb1-68021f82a8f2",
        "colab": {
          "base_uri": "https://localhost:8080/",
          "height": 34
        }
      },
      "source": [
        "'I' not in numeros_romanos"
      ],
      "execution_count": 0,
      "outputs": [
        {
          "output_type": "execute_result",
          "data": {
            "text/plain": [
              "False"
            ]
          },
          "metadata": {
            "tags": []
          },
          "execution_count": 54
        }
      ]
    },
    {
      "cell_type": "markdown",
      "metadata": {
        "id": "B0yoe4SOscCe",
        "colab_type": "text"
      },
      "source": [
        "#Tarea 2\n",
        "\n",
        "\n",
        "*   Crear un diccionario 'Numeros binarios' con 5 items \"\"1\"\" \"\"2\"\" \"\"4\"\" \"\"5\"\" \"\"10\"\" y sus respectivos valores \n",
        "*   Insertar una llave \"\"3\"\" con su valor\n",
        "*   Remover \"\"5\"\" y obtener su valor \n",
        "*  Verificar si la llave ''9 existe'\n",
        "\n"
      ]
    },
    {
      "cell_type": "code",
      "metadata": {
        "id": "DPrcfTHEsbmN",
        "colab_type": "code",
        "outputId": "0804a340-9f23-4d54-a690-dfcba2612199",
        "colab": {
          "base_uri": "https://localhost:8080/",
          "height": 34
        }
      },
      "source": [
        "#Crear diccionario\n",
        "numeros_binarios= {'1':1, '2':10, '4': 100, '5':101, '10':1100100}\n",
        "numeros_binarios"
      ],
      "execution_count": 0,
      "outputs": [
        {
          "output_type": "execute_result",
          "data": {
            "text/plain": [
              "{'1': 1, '10': 1100100, '2': 10, '4': 100, '5': 101}"
            ]
          },
          "metadata": {
            "tags": []
          },
          "execution_count": 62
        }
      ]
    },
    {
      "cell_type": "code",
      "metadata": {
        "id": "9cg0MJiHuSuv",
        "colab_type": "code",
        "outputId": "ec4c11d3-5b10-4e8c-fe3a-36ad350d84cd",
        "colab": {
          "base_uri": "https://localhost:8080/",
          "height": 34
        }
      },
      "source": [
        "#Insertar llave '3'\n",
        "numeros_binarios['3']=11\n",
        "numeros_binarios"
      ],
      "execution_count": 0,
      "outputs": [
        {
          "output_type": "execute_result",
          "data": {
            "text/plain": [
              "{'1': 1, '10': 1100100, '2': 10, '3': 11, '4': 100, '5': 101}"
            ]
          },
          "metadata": {
            "tags": []
          },
          "execution_count": 58
        }
      ]
    },
    {
      "cell_type": "code",
      "metadata": {
        "id": "vBUC79aeua90",
        "colab_type": "code",
        "outputId": "f58409f9-79cc-4c47-e7ea-3b450e1e3e7e",
        "colab": {
          "base_uri": "https://localhost:8080/",
          "height": 34
        }
      },
      "source": [
        "#Remover '5'\n",
        "numeros_binarios.pop('5')"
      ],
      "execution_count": 0,
      "outputs": [
        {
          "output_type": "execute_result",
          "data": {
            "text/plain": [
              "101"
            ]
          },
          "metadata": {
            "tags": []
          },
          "execution_count": 59
        }
      ]
    },
    {
      "cell_type": "code",
      "metadata": {
        "id": "t39BCfoXun57",
        "colab_type": "code",
        "outputId": "777322e6-cbac-4fac-ab11-bd29cb352148",
        "colab": {
          "base_uri": "https://localhost:8080/",
          "height": 34
        }
      },
      "source": [
        "#Verificar si '9' existe\n",
        "numeros_binarios.get('9', '9 no existe')"
      ],
      "execution_count": 0,
      "outputs": [
        {
          "output_type": "execute_result",
          "data": {
            "text/plain": [
              "'9 no existe'"
            ]
          },
          "metadata": {
            "tags": []
          },
          "execution_count": 65
        }
      ]
    },
    {
      "cell_type": "markdown",
      "metadata": {
        "id": "0Fdal8qJwJdK",
        "colab_type": "text"
      },
      "source": [
        "#Tarea 3\n",
        "\n",
        "Promedio de Susana es 92.33\n",
        "\n",
        "Promedio de Eduardo es 85.67\n",
        "\n",
        "Promedio de Ariel es 87.33\n",
        "\n",
        "Promedio de Pedro es 93.33\n",
        "\n",
        "Promedio de salon:89.67"
      ]
    },
    {
      "cell_type": "code",
      "metadata": {
        "id": "SBjiWo_iw39P",
        "colab_type": "code",
        "outputId": "55537766-deff-4e14-acf4-f50f1ae68a3c",
        "colab": {
          "base_uri": "https://localhost:8080/",
          "height": 170
        }
      },
      "source": [
        "libro_de_notas={'Susana': [92, 85, 100], \n",
        "                'Eduardo': [83, 95, 79], \n",
        "                'Ariel':[91, 89, 82], \n",
        "                'Pedro':[97, 91, 92]}\n",
        "\n",
        "todas=0\n",
        "contador=0\n",
        "\n",
        "for nombre, notas in libro_de_notas.items():\n",
        "  total= sum(notas)\n",
        "  print(f'El promedio de {nombre} es {total/len(notas):.2f}\\n')\n",
        "  todas=todas+total\n",
        "  contador+=len(notas)\n",
        "print(f'El promedio del salon es {todas/contador: .2f}')"
      ],
      "execution_count": 6,
      "outputs": [
        {
          "output_type": "stream",
          "text": [
            "El promedio de Susana es 92.33\n",
            "\n",
            "El promedio de Eduardo es 85.67\n",
            "\n",
            "El promedio de Ariel es 87.33\n",
            "\n",
            "El promedio de Pedro es 93.33\n",
            "\n",
            "El promedio del salon es  89.67\n"
          ],
          "name": "stdout"
        }
      ]
    }
  ]
}