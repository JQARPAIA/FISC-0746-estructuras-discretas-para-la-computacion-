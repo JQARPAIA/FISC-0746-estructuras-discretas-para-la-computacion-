{
  "nbformat": 4,
  "nbformat_minor": 0,
  "metadata": {
    "colab": {
      "name": "Lab06.ipynb",
      "version": "0.3.2",
      "provenance": []
    },
    "kernelspec": {
      "name": "python3",
      "display_name": "Python 3"
    }
  },
  "cells": [
    {
      "cell_type": "markdown",
      "metadata": {
        "id": "-M5hY4jyuVOB",
        "colab_type": "text"
      },
      "source": [
        "#Laboratorio #06\n",
        "José Arpaia E-8-149140\n",
        "\n",
        "Mayo 22, 2019"
      ]
    },
    {
      "cell_type": "markdown",
      "metadata": {
        "id": "vz4A522zhRYr",
        "colab_type": "text"
      },
      "source": [
        "#Tarea 1"
      ]
    },
    {
      "cell_type": "code",
      "metadata": {
        "id": "9R3TdRkffqV7",
        "colab_type": "code",
        "colab": {}
      },
      "source": [
        "def multi(a, b):\n",
        "  return a*b"
      ],
      "execution_count": 0,
      "outputs": []
    },
    {
      "cell_type": "code",
      "metadata": {
        "id": "U5BhSBpwgWo3",
        "colab_type": "code",
        "colab": {
          "base_uri": "https://localhost:8080/",
          "height": 34
        },
        "outputId": "73d51d90-1d22-4e29-bfba-dc5f272cc005"
      },
      "source": [
        "num1=1 \n",
        "num2=9\n",
        "multi(num1, num2)\n",
        "print(\"La multiplicacion de \"+ str(num1)+ \" y \"+str(num2) +\" es \"+ str(multi(num1, num2)))"
      ],
      "execution_count": 4,
      "outputs": [
        {
          "output_type": "stream",
          "text": [
            "La multiplicacion de 1 y 9 es 9\n"
          ],
          "name": "stdout"
        }
      ]
    },
    {
      "cell_type": "markdown",
      "metadata": {
        "id": "PpmepNJxhU3T",
        "colab_type": "text"
      },
      "source": [
        "#Tarea 2 \n",
        "\n",
        "Escribir una funcion que regrese el 7% de una compra .\n",
        "\n",
        "¿Cual es el total de la venta?"
      ]
    },
    {
      "cell_type": "code",
      "metadata": {
        "id": "M4J9z_zkhuur",
        "colab_type": "code",
        "colab": {}
      },
      "source": [
        "def total(prec):\n",
        "  return prec*1.07\n",
        "def impt(prec):\n",
        "  return prec*0.07"
      ],
      "execution_count": 0,
      "outputs": []
    },
    {
      "cell_type": "code",
      "metadata": {
        "id": "wn2WVezciMiq",
        "colab_type": "code",
        "colab": {
          "base_uri": "https://localhost:8080/",
          "height": 68
        },
        "outputId": "6facce03-7a42-4784-e02b-9f81f4981909"
      },
      "source": [
        "prec = 20.99\n",
        "imp= impt(prec)\n",
        "tot= total(prec)\n",
        "print(\"Precio neto: \\t%.2f \\nImpuesto neto: \\t%.2f \\nTOTAL: \\t%.2f \" %(prec, imp, tot))\n",
        "# print(\"Precio Neto: \"+ str(prec)+\"\\nTotal: \"+str(total(prec))+\"\\nImpuesto (7%): \"+ str(impt(prec)))"
      ],
      "execution_count": 62,
      "outputs": [
        {
          "output_type": "stream",
          "text": [
            "Precio neto: \t20.99 \n",
            "Impuesto neto: \t1.47 \n",
            "TOTAL: \t22.46 \n"
          ],
          "name": "stdout"
        }
      ]
    },
    {
      "cell_type": "markdown",
      "metadata": {
        "id": "mkWKd1uMpbKe",
        "colab_type": "text"
      },
      "source": [
        "#Tarea 3\n",
        "\n",
        "###Preguntar la la persona es jubilada\n",
        "###Si es jubilada aplicar el 30% de descuento\n",
        "###imprimir el total "
      ]
    },
    {
      "cell_type": "code",
      "metadata": {
        "id": "ynHlxgMMslt9",
        "colab_type": "code",
        "colab": {
          "base_uri": "https://localhost:8080/",
          "height": 85
        },
        "outputId": "80be1a3e-62ac-48d5-af93-fe6c1308f877"
      },
      "source": [
        "prec = 49.99\n",
        "print (\"¿Es jubilado? (si/no)\")\n",
        "resp = input()\n",
        "if resp == 'si':\n",
        "  tot= total(prec)*0.70\n",
        "  print(\"Si aplica al descuento de jubilado\\nTotal a pagar: \\t%.2f\"%tot)\n",
        "else:\n",
        "  tot=total(prec)\n",
        "  print(\"No aplica al descuento de jubilado.\\nTotal a pagar: \\t %.2f\"%tot)\n",
        "  "
      ],
      "execution_count": 106,
      "outputs": [
        {
          "output_type": "stream",
          "text": [
            "¿Es jubilado? (si/no)\n",
            "si\n",
            "Si aplica al descuento de jubilado\n",
            "Total a pagar: \t37.44\n"
          ],
          "name": "stdout"
        }
      ]
    }
  ]
}