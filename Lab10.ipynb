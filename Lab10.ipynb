{
  "nbformat": 4,
  "nbformat_minor": 0,
  "metadata": {
    "colab": {
      "name": "Lab10.ipynb",
      "version": "0.3.2",
      "provenance": []
    },
    "kernelspec": {
      "name": "python3",
      "display_name": "Python 3"
    }
  },
  "cells": [
    {
      "cell_type": "code",
      "metadata": {
        "id": "spULE2CXuA8V",
        "colab_type": "code",
        "colab": {}
      },
      "source": [
        "from collections import defaultdict, namedtuple, Counter, deque\n",
        "import csv\n",
        "import random\n",
        "from urllib.request import urlretrieve"
      ],
      "execution_count": 0,
      "outputs": []
    },
    {
      "cell_type": "code",
      "metadata": {
        "id": "sNAUC7PbuHzE",
        "colab_type": "code",
        "outputId": "629be22f-3ac4-40ff-f089-e29750d1e743",
        "colab": {
          "base_uri": "https://localhost:8080/",
          "height": 34
        }
      },
      "source": [
        "pelicula_data = 'https://raw.githubusercontent.com/pybites/challenges/solutions/13/movie_metadata.csv'\n",
        "pelicula_csv = 'movies.csv'\n",
        "urlretrieve(pelicula_data, pelicula_csv)"
      ],
      "execution_count": 9,
      "outputs": [
        {
          "output_type": "execute_result",
          "data": {
            "text/plain": [
              "('movies.csv', <http.client.HTTPMessage at 0x7f1aa347f518>)"
            ]
          },
          "metadata": {
            "tags": []
          },
          "execution_count": 9
        }
      ]
    },
    {
      "cell_type": "code",
      "metadata": {
        "id": "4Y8Iedg0uat7",
        "colab_type": "code",
        "colab": {}
      },
      "source": [
        "pelicula = namedtuple('Peliculas', 'title year score')"
      ],
      "execution_count": 0,
      "outputs": []
    },
    {
      "cell_type": "code",
      "metadata": {
        "id": "IMqnFwnkv0cM",
        "colab_type": "code",
        "colab": {}
      },
      "source": [
        "def obtener_peliculas_por_director(data=pelicula_csv):\n",
        "    \"\"\"Extracts all movies from csv and stores them in a dictionary\n",
        "       where keys are directors, and values is a list of movies (named tuples)\"\"\"\n",
        "    directors = defaultdict(list)\n",
        "    with open(data, encoding='utf-8') as f:\n",
        "        for line in csv.DictReader(f):\n",
        "            try:\n",
        "                director = line['director_name']\n",
        "                movie = line['movie_title'].replace('\\xa0', '')\n",
        "                year = int(line['title_year'])\n",
        "                score = float(line['imdb_score'])\n",
        "            except ValueError:\n",
        "                continue\n",
        "\n",
        "            m = pelicula(title=movie, year=year, score=score)\n",
        "            directors[director].append(m)\n",
        "\n",
        "    return directors"
      ],
      "execution_count": 0,
      "outputs": []
    },
    {
      "cell_type": "code",
      "metadata": {
        "id": "biL0LNClwGnc",
        "colab_type": "code",
        "colab": {}
      },
      "source": [
        "director = obtener_peliculas_por_director()"
      ],
      "execution_count": 0,
      "outputs": []
    },
    {
      "cell_type": "code",
      "metadata": {
        "id": "T66-NUFgwaC6",
        "colab_type": "code",
        "colab": {}
      },
      "source": [
        "director"
      ],
      "execution_count": 0,
      "outputs": []
    },
    {
      "cell_type": "code",
      "metadata": {
        "id": "8i6-vbZczNQO",
        "colab_type": "code",
        "colab": {}
      },
      "source": [
        "ContDire = 0\n",
        "ContPeli = 0\n",
        "for name, movie in director.items():\n",
        "  ContDire += len(name)\n",
        "  ContPeli += len(movie)\n",
        "  may=0\n",
        "   #if (movie[3]>may):\n",
        "    #may=movie[3]\n",
        "    #print(\"El mayor score de '\"+name+\"' es \"+str(may)+\"con la pelicula '\"+str(movie[1])+\"'.\")\n",
        "    #else:\n",
        "      #print(\"El mayor score de '\"+name+\"' es \"+str(may)+\"con la pelicula '\"+str(movie[1])+\"'.\")\n",
        "  print(\"El director '\"+name+\"' tiene \"+str(len(movie))+\" peliculas en total.\")\n",
        "print(\"Hay %.2f directores en total.\"%ContDire)\n",
        "print(\"Hay %.2f peliculas en total.\"%ContPeli)\n"
      ],
      "execution_count": 0,
      "outputs": []
    }
  ]
}