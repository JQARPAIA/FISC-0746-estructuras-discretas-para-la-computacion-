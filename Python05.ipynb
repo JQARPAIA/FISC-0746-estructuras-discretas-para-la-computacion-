{
  "nbformat": 4,
  "nbformat_minor": 0,
  "metadata": {
    "colab": {
      "name": "Python05.ipynb",
      "version": "0.3.2",
      "provenance": []
    },
    "kernelspec": {
      "name": "python2",
      "display_name": "Python 2"
    }
  },
  "cells": [
    {
      "cell_type": "markdown",
      "metadata": {
        "id": "-b9S7KAuU0TZ",
        "colab_type": "text"
      },
      "source": [
        "#Laboratorio 5\n",
        "##Factorial"
      ]
    },
    {
      "cell_type": "code",
      "metadata": {
        "id": "uqAMoocrU9wQ",
        "colab_type": "code",
        "colab": {}
      },
      "source": [
        "def factorial(n):\n",
        "  if n > 1:\n",
        "    return n * factorial(n-1)\n",
        "  else:\n",
        "    return 1"
      ],
      "execution_count": 0,
      "outputs": []
    },
    {
      "cell_type": "code",
      "metadata": {
        "id": "8ljFi4A1Zmcq",
        "colab_type": "code",
        "colab": {
          "base_uri": "https://localhost:8080/",
          "height": 34
        },
        "outputId": "185bfebc-486a-4144-8999-d24d7ef4470e"
      },
      "source": [
        "factorial(3)"
      ],
      "execution_count": 43,
      "outputs": [
        {
          "output_type": "execute_result",
          "data": {
            "text/plain": [
              "6"
            ]
          },
          "metadata": {
            "tags": []
          },
          "execution_count": 43
        }
      ]
    },
    {
      "cell_type": "code",
      "metadata": {
        "id": "g2t_4KPnbjov",
        "colab_type": "code",
        "colab": {
          "base_uri": "https://localhost:8080/",
          "height": 34
        },
        "outputId": "ff60e023-860e-4e95-9433-1e569983cae5"
      },
      "source": [
        "from math import factorial\n",
        "factorial(3)"
      ],
      "execution_count": 45,
      "outputs": [
        {
          "output_type": "execute_result",
          "data": {
            "text/plain": [
              "6"
            ]
          },
          "metadata": {
            "tags": []
          },
          "execution_count": 45
        }
      ]
    },
    {
      "cell_type": "markdown",
      "metadata": {
        "id": "N5LfvtJVcU0l",
        "colab_type": "text"
      },
      "source": [
        "##Combinaciones"
      ]
    },
    {
      "cell_type": "code",
      "metadata": {
        "id": "sepl-vpUcE5L",
        "colab_type": "code",
        "colab": {
          "base_uri": "https://localhost:8080/",
          "height": 34
        },
        "outputId": "d2590435-2dfb-46fe-cd7e-fdcfae7d6261"
      },
      "source": [
        "import itertools\n",
        "list(itertools.combinations(range(3),2))"
      ],
      "execution_count": 48,
      "outputs": [
        {
          "output_type": "execute_result",
          "data": {
            "text/plain": [
              "[(0, 1), (0, 2), (1, 2)]"
            ]
          },
          "metadata": {
            "tags": []
          },
          "execution_count": 48
        }
      ]
    },
    {
      "cell_type": "markdown",
      "metadata": {
        "id": "oz6N57Z3dIMH",
        "colab_type": "text"
      },
      "source": [
        "##Combinaciones con reemplazo"
      ]
    },
    {
      "cell_type": "code",
      "metadata": {
        "id": "dHaMbIkndAsA",
        "colab_type": "code",
        "colab": {
          "base_uri": "https://localhost:8080/",
          "height": 34
        },
        "outputId": "9d8986ee-8ce7-4a7f-e70a-950db08f16be"
      },
      "source": [
        "list(itertools.combinations_with_replacement(range(3),2))"
      ],
      "execution_count": 49,
      "outputs": [
        {
          "output_type": "execute_result",
          "data": {
            "text/plain": [
              "[(0, 0), (0, 1), (0, 2), (1, 1), (1, 2), (2, 2)]"
            ]
          },
          "metadata": {
            "tags": []
          },
          "execution_count": 49
        }
      ]
    },
    {
      "cell_type": "markdown",
      "metadata": {
        "id": "TUipVdZLdVrK",
        "colab_type": "text"
      },
      "source": [
        "Dado un numero de elementos A,B, C, queremos extraer todas las posibles parejas de dos elementos, AA, AB, AC, etc"
      ]
    },
    {
      "cell_type": "code",
      "metadata": {
        "id": "58UaaAYYdMBS",
        "colab_type": "code",
        "colab": {
          "base_uri": "https://localhost:8080/",
          "height": 170
        },
        "outputId": "7b49dd6d-d6ee-47be-ed49-a32fbdd3978e"
      },
      "source": [
        "c = itertools.product(('A', 'B', 'C'), repeat=2)\n",
        "list(c)"
      ],
      "execution_count": 51,
      "outputs": [
        {
          "output_type": "execute_result",
          "data": {
            "text/plain": [
              "[('A', 'A'),\n",
              " ('A', 'B'),\n",
              " ('A', 'C'),\n",
              " ('B', 'A'),\n",
              " ('B', 'B'),\n",
              " ('B', 'C'),\n",
              " ('C', 'A'),\n",
              " ('C', 'B'),\n",
              " ('C', 'C')]"
            ]
          },
          "metadata": {
            "tags": []
          },
          "execution_count": 51
        }
      ]
    },
    {
      "cell_type": "markdown",
      "metadata": {
        "id": "V0OkaaC_fTGz",
        "colab_type": "text"
      },
      "source": [
        "##Permutaciones "
      ]
    },
    {
      "cell_type": "code",
      "metadata": {
        "id": "Q48opQBDfV6Y",
        "colab_type": "code",
        "colab": {
          "base_uri": "https://localhost:8080/",
          "height": 34
        },
        "outputId": "4e2d9545-0bc5-4e08-b260-63338e922311"
      },
      "source": [
        "c = itertools.permutations(('A', 'B', 'C'), 2)\n",
        "list(c)"
      ],
      "execution_count": 52,
      "outputs": [
        {
          "output_type": "execute_result",
          "data": {
            "text/plain": [
              "[('A', 'B'), ('A', 'C'), ('B', 'A'), ('B', 'C'), ('C', 'A'), ('C', 'B')]"
            ]
          },
          "metadata": {
            "tags": []
          },
          "execution_count": 52
        }
      ]
    },
    {
      "cell_type": "markdown",
      "metadata": {
        "id": "igFPxMkHfrNs",
        "colab_type": "text"
      },
      "source": [
        "##Combinaciones"
      ]
    },
    {
      "cell_type": "code",
      "metadata": {
        "id": "IgF55zU3fhyx",
        "colab_type": "code",
        "colab": {
          "base_uri": "https://localhost:8080/",
          "height": 34
        },
        "outputId": "c87c1c91-d2c8-4c0c-c8af-b27e47151c56"
      },
      "source": [
        "c = itertools.combinations(('A', 'B', 'C'), 2)\n",
        "list(c)"
      ],
      "execution_count": 53,
      "outputs": [
        {
          "output_type": "execute_result",
          "data": {
            "text/plain": [
              "[('A', 'B'), ('A', 'C'), ('B', 'C')]"
            ]
          },
          "metadata": {
            "tags": []
          },
          "execution_count": 53
        }
      ]
    },
    {
      "cell_type": "markdown",
      "metadata": {
        "id": "lhVbNztWgNPR",
        "colab_type": "text"
      },
      "source": [
        "###Tarea #2: Octavos de final de la Champions League 2019\n",
        "\n",
        "¿Cuales son los posibles combinaciones de partidos? ¿Cuantas combinaciones?\n",
        "\n",
        "Equipos finalistas: Porto, Roma, Man City, Schalke04, Bayern, Liverpool, Man U, PSG, Juventus, Atletico de Madrid, Barcelona, Lyon."
      ]
    },
    {
      "cell_type": "code",
      "metadata": {
        "id": "JW43KUcyg3dl",
        "colab_type": "code",
        "colab": {
          "base_uri": "https://localhost:8080/",
          "height": 1139
        },
        "outputId": "3385d1e8-f709-43dd-ab5e-0b406d2cd706"
      },
      "source": [
        "c = itertools.combinations(('Porto', 'Roma', 'Manchester City', 'Schalke04', 'Bayern Munich', 'Liverpool', 'Manchester United', 'PSG', 'Juventus', 'Atletico de Madrid', 'Barcelona', 'Lyon'), 2)\n",
        "list(c)"
      ],
      "execution_count": 70,
      "outputs": [
        {
          "output_type": "execute_result",
          "data": {
            "text/plain": [
              "[('Porto', 'Roma'),\n",
              " ('Porto', 'Manchester City'),\n",
              " ('Porto', 'Schalke04'),\n",
              " ('Porto', 'Bayern Munich'),\n",
              " ('Porto', 'Liverpool'),\n",
              " ('Porto', 'Manchester United'),\n",
              " ('Porto', 'PSG'),\n",
              " ('Porto', 'Juventus'),\n",
              " ('Porto', 'Atletico de Madrid'),\n",
              " ('Porto', 'Barcelona'),\n",
              " ('Porto', 'Lyon'),\n",
              " ('Roma', 'Manchester City'),\n",
              " ('Roma', 'Schalke04'),\n",
              " ('Roma', 'Bayern Munich'),\n",
              " ('Roma', 'Liverpool'),\n",
              " ('Roma', 'Manchester United'),\n",
              " ('Roma', 'PSG'),\n",
              " ('Roma', 'Juventus'),\n",
              " ('Roma', 'Atletico de Madrid'),\n",
              " ('Roma', 'Barcelona'),\n",
              " ('Roma', 'Lyon'),\n",
              " ('Manchester City', 'Schalke04'),\n",
              " ('Manchester City', 'Bayern Munich'),\n",
              " ('Manchester City', 'Liverpool'),\n",
              " ('Manchester City', 'Manchester United'),\n",
              " ('Manchester City', 'PSG'),\n",
              " ('Manchester City', 'Juventus'),\n",
              " ('Manchester City', 'Atletico de Madrid'),\n",
              " ('Manchester City', 'Barcelona'),\n",
              " ('Manchester City', 'Lyon'),\n",
              " ('Schalke04', 'Bayern Munich'),\n",
              " ('Schalke04', 'Liverpool'),\n",
              " ('Schalke04', 'Manchester United'),\n",
              " ('Schalke04', 'PSG'),\n",
              " ('Schalke04', 'Juventus'),\n",
              " ('Schalke04', 'Atletico de Madrid'),\n",
              " ('Schalke04', 'Barcelona'),\n",
              " ('Schalke04', 'Lyon'),\n",
              " ('Bayern Munich', 'Liverpool'),\n",
              " ('Bayern Munich', 'Manchester United'),\n",
              " ('Bayern Munich', 'PSG'),\n",
              " ('Bayern Munich', 'Juventus'),\n",
              " ('Bayern Munich', 'Atletico de Madrid'),\n",
              " ('Bayern Munich', 'Barcelona'),\n",
              " ('Bayern Munich', 'Lyon'),\n",
              " ('Liverpool', 'Manchester United'),\n",
              " ('Liverpool', 'PSG'),\n",
              " ('Liverpool', 'Juventus'),\n",
              " ('Liverpool', 'Atletico de Madrid'),\n",
              " ('Liverpool', 'Barcelona'),\n",
              " ('Liverpool', 'Lyon'),\n",
              " ('Manchester United', 'PSG'),\n",
              " ('Manchester United', 'Juventus'),\n",
              " ('Manchester United', 'Atletico de Madrid'),\n",
              " ('Manchester United', 'Barcelona'),\n",
              " ('Manchester United', 'Lyon'),\n",
              " ('PSG', 'Juventus'),\n",
              " ('PSG', 'Atletico de Madrid'),\n",
              " ('PSG', 'Barcelona'),\n",
              " ('PSG', 'Lyon'),\n",
              " ('Juventus', 'Atletico de Madrid'),\n",
              " ('Juventus', 'Barcelona'),\n",
              " ('Juventus', 'Lyon'),\n",
              " ('Atletico de Madrid', 'Barcelona'),\n",
              " ('Atletico de Madrid', 'Lyon'),\n",
              " ('Barcelona', 'Lyon')]"
            ]
          },
          "metadata": {
            "tags": []
          },
          "execution_count": 70
        }
      ]
    },
    {
      "cell_type": "code",
      "metadata": {
        "id": "jn897yHKiVVk",
        "colab_type": "code",
        "colab": {
          "base_uri": "https://localhost:8080/",
          "height": 34
        },
        "outputId": "819f405c-4a95-4164-dce2-65227fbee95c"
      },
      "source": [
        "len(list(itertools.combinations(('Porto', 'Roma', 'Manchester City', 'Schalke04', 'Bayern Munich', 'Liverpool', 'Manchester United', 'PSG', 'Juventus', 'Atletico de Madrid', 'Barcelona', 'Lyon'), 2)))"
      ],
      "execution_count": 80,
      "outputs": [
        {
          "output_type": "execute_result",
          "data": {
            "text/plain": [
              "66"
            ]
          },
          "metadata": {
            "tags": []
          },
          "execution_count": 80
        }
      ]
    }
  ]
}