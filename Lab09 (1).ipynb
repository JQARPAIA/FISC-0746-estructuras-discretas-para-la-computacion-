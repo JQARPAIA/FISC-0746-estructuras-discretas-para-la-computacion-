{
  "nbformat": 4,
  "nbformat_minor": 0,
  "metadata": {
    "colab": {
      "name": "Lab09.ipynb",
      "version": "0.3.2",
      "provenance": [],
      "collapsed_sections": []
    },
    "kernelspec": {
      "name": "python3",
      "display_name": "Python 3"
    }
  },
  "cells": [
    {
      "cell_type": "markdown",
      "metadata": {
        "id": "PykXDCjGySfi",
        "colab_type": "text"
      },
      "source": [
        "#Laboratorio #09\n",
        "\n",
        "##Tarea #1\n",
        "\n",
        "* ¿Estudiante mejor promedio?\n",
        "* Lista de estudiantes que superen la media."
      ]
    },
    {
      "cell_type": "code",
      "metadata": {
        "id": "bT2c5q0cyRvB",
        "colab_type": "code",
        "colab": {
          "base_uri": "https://localhost:8080/",
          "height": 306
        },
        "outputId": "1be68c0f-79af-45ee-eb89-3d8aefea5ea7"
      },
      "source": [
        "libro_de_notas={'Susana': [92, 85, 100], \n",
        "                'Eduardo': [83, 95, 79], \n",
        "                'Ariel':[91, 89, 82], \n",
        "                'Pedro':[97, 91, 92]}\n",
        "\n",
        "todas=0\n",
        "contador=0\n",
        "mayor=0\n",
        "best_estu={}\n",
        "for nombre, notas in libro_de_notas.items():\n",
        "  total= sum(notas)\n",
        "  print(f'El promedio de {nombre} es {total/len(notas):.2f}\\n')\n",
        "  todas=todas+total\n",
        "  contador+=len(notas)\n",
        "  prom=total/len(notas)\n",
        "  best_estu[nombre]=prom\n",
        "\n",
        "print(f'El promedio del salon es {todas/contador: .2f}\\n')\n",
        "salon=todas/contador\n",
        "for nombre, prom in best_estu.items():\n",
        "  if (prom>=mayor):\n",
        "    mayor=prom\n",
        "print(f'\\n{nombre}es el mayor promedio.')\n",
        "print(\"%.2f\"%mayor)\n",
        "\n",
        "for nombre, prom in best_estu.items():\n",
        "  if (prom>=salon):\n",
        "    print(f'\\n{nombre} esta arriba del promedio con {prom: .2f}.')"
      ],
      "execution_count": 1,
      "outputs": [
        {
          "output_type": "stream",
          "text": [
            "El promedio de Susana es 92.33\n",
            "\n",
            "El promedio de Eduardo es 85.67\n",
            "\n",
            "El promedio de Ariel es 87.33\n",
            "\n",
            "El promedio de Pedro es 93.33\n",
            "\n",
            "El promedio del salon es  89.67\n",
            "\n",
            "\n",
            "Pedroes el mayor promedio.\n",
            "93.33\n",
            "\n",
            "Susana esta arriba del promedio con  92.33.\n",
            "\n",
            "Pedro esta arriba del promedio con  93.33.\n"
          ],
          "name": "stdout"
        }
      ]
    }
  ]
}