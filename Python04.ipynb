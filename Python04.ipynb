{
  "nbformat": 4,
  "nbformat_minor": 0,
  "metadata": {
    "colab": {
      "name": "Python04.ipynb",
      "version": "0.3.2",
      "provenance": []
    },
    "kernelspec": {
      "name": "python3",
      "display_name": "Python 3"
    }
  },
  "cells": [
    {
      "metadata": {
        "id": "R1X4BnbUNu16",
        "colab_type": "code",
        "colab": {
          "base_uri": "https://localhost:8080/",
          "height": 34
        },
        "outputId": "654da23c-e41b-4f72-95c3-a350bc411cae"
      },
      "cell_type": "code",
      "source": [
        "c = [-45, 6, 0, 72, 1543]\n",
        "print(c)"
      ],
      "execution_count": 1,
      "outputs": [
        {
          "output_type": "stream",
          "text": [
            "[-45, 6, 0, 72, 1543]\n"
          ],
          "name": "stdout"
        }
      ]
    },
    {
      "metadata": {
        "id": "4HFWZdrYOlNy",
        "colab_type": "code",
        "colab": {
          "base_uri": "https://localhost:8080/",
          "height": 34
        },
        "outputId": "c06a2465-7530-4876-9380-fc87d7505181"
      },
      "cell_type": "code",
      "source": [
        "c[0]"
      ],
      "execution_count": 2,
      "outputs": [
        {
          "output_type": "execute_result",
          "data": {
            "text/plain": [
              "-45"
            ]
          },
          "metadata": {
            "tags": []
          },
          "execution_count": 2
        }
      ]
    },
    {
      "metadata": {
        "id": "wS1E4wISOvLl",
        "colab_type": "code",
        "colab": {
          "base_uri": "https://localhost:8080/",
          "height": 34
        },
        "outputId": "56d258e8-8ec5-4d69-b599-486f67d90db0"
      },
      "cell_type": "code",
      "source": [
        "len(c)"
      ],
      "execution_count": 3,
      "outputs": [
        {
          "output_type": "execute_result",
          "data": {
            "text/plain": [
              "5"
            ]
          },
          "metadata": {
            "tags": []
          },
          "execution_count": 3
        }
      ]
    },
    {
      "metadata": {
        "id": "Qf9D4yg4OyUp",
        "colab_type": "code",
        "colab": {
          "base_uri": "https://localhost:8080/",
          "height": 34
        },
        "outputId": "29b33794-a6c3-41cd-c92d-31d3ae2f45d4"
      },
      "cell_type": "code",
      "source": [
        "type(c)"
      ],
      "execution_count": 4,
      "outputs": [
        {
          "output_type": "execute_result",
          "data": {
            "text/plain": [
              "list"
            ]
          },
          "metadata": {
            "tags": []
          },
          "execution_count": 4
        }
      ]
    },
    {
      "metadata": {
        "id": "QW-JHWUfQLxz",
        "colab_type": "code",
        "colab": {}
      },
      "cell_type": "code",
      "source": [
        "a=1"
      ],
      "execution_count": 0,
      "outputs": []
    },
    {
      "metadata": {
        "id": "-gwTaBT9QStq",
        "colab_type": "code",
        "colab": {}
      },
      "cell_type": "code",
      "source": [
        "b=2"
      ],
      "execution_count": 0,
      "outputs": []
    },
    {
      "metadata": {
        "id": "n-tBjI-QQYJ7",
        "colab_type": "code",
        "colab": {
          "base_uri": "https://localhost:8080/",
          "height": 34
        },
        "outputId": "7b5c5ae2-5ecc-4d81-eb6b-98d984a4a0e6"
      },
      "cell_type": "code",
      "source": [
        "c[a+b]"
      ],
      "execution_count": 7,
      "outputs": [
        {
          "output_type": "execute_result",
          "data": {
            "text/plain": [
              "72"
            ]
          },
          "metadata": {
            "tags": []
          },
          "execution_count": 7
        }
      ]
    },
    {
      "metadata": {
        "id": "b2y9uqcZQ_4a",
        "colab_type": "code",
        "colab": {}
      },
      "cell_type": "code",
      "source": [
        "notas = [91, 99, 89, 63, 79]"
      ],
      "execution_count": 0,
      "outputs": []
    },
    {
      "metadata": {
        "id": "PF9Jq2-BRWmr",
        "colab_type": "code",
        "colab": {
          "base_uri": "https://localhost:8080/",
          "height": 34
        },
        "outputId": "035c19e4-ceaf-482c-96a7-dc2015bd9561"
      },
      "cell_type": "code",
      "source": [
        "sum(notas)"
      ],
      "execution_count": 9,
      "outputs": [
        {
          "output_type": "execute_result",
          "data": {
            "text/plain": [
              "421"
            ]
          },
          "metadata": {
            "tags": []
          },
          "execution_count": 9
        }
      ]
    },
    {
      "metadata": {
        "id": "mly_c6KpRYfz",
        "colab_type": "code",
        "colab": {
          "base_uri": "https://localhost:8080/",
          "height": 34
        },
        "outputId": "4e3c0ebd-cea2-44af-e720-95ae6bdf79af"
      },
      "cell_type": "code",
      "source": [
        "len(notas)"
      ],
      "execution_count": 10,
      "outputs": [
        {
          "output_type": "execute_result",
          "data": {
            "text/plain": [
              "5"
            ]
          },
          "metadata": {
            "tags": []
          },
          "execution_count": 10
        }
      ]
    },
    {
      "metadata": {
        "id": "kchIiTGERavi",
        "colab_type": "code",
        "colab": {
          "base_uri": "https://localhost:8080/",
          "height": 34
        },
        "outputId": "e1129ce6-4c63-4cfe-9ea0-f8faa35d5cd2"
      },
      "cell_type": "code",
      "source": [
        "avg= sum(notas) / len(notas)\n",
        "avg"
      ],
      "execution_count": 15,
      "outputs": [
        {
          "output_type": "execute_result",
          "data": {
            "text/plain": [
              "84.2"
            ]
          },
          "metadata": {
            "tags": []
          },
          "execution_count": 15
        }
      ]
    },
    {
      "metadata": {
        "id": "F2arFu6gRo5b",
        "colab_type": "code",
        "colab": {
          "base_uri": "https://localhost:8080/",
          "height": 187
        },
        "outputId": "4daa51fe-c22d-4fea-cd65-72433928c09a"
      },
      "cell_type": "code",
      "source": [
        "x=[2, 3, 99]\n",
        "n=0\n",
        "print(\"Ordenados:\")\n",
        "for i in (x):\n",
        "  print(i)\n",
        "  n+=i\n",
        "print(n)\n",
        "print(\"\\nAl reves:\")\n",
        "for i in reversed(x):\n",
        "  print(i)"
      ],
      "execution_count": 50,
      "outputs": [
        {
          "output_type": "stream",
          "text": [
            "Ordenados:\n",
            "2\n",
            "3\n",
            "99\n",
            "104\n",
            "\n",
            "Al reves:\n",
            "99\n",
            "3\n",
            "2\n"
          ],
          "name": "stdout"
        }
      ]
    },
    {
      "metadata": {
        "id": "jZZqpn3DX4ij",
        "colab_type": "code",
        "colab": {
          "base_uri": "https://localhost:8080/",
          "height": 34
        },
        "outputId": "a4bc8346-c002-44fb-f873-b41ffeb6504a"
      },
      "cell_type": "code",
      "source": [
        "prom=0\n",
        "suma=0\n",
        "for i in x:\n",
        "  suma =suma+i\n",
        "  prom = suma / len(x)\n",
        "print(prom)"
      ],
      "execution_count": 65,
      "outputs": [
        {
          "output_type": "stream",
          "text": [
            "34.666666666666664\n"
          ],
          "name": "stdout"
        }
      ]
    },
    {
      "metadata": {
        "id": "A9o4sLZzZmAT",
        "colab_type": "code",
        "colab": {
          "base_uri": "https://localhost:8080/",
          "height": 34
        },
        "outputId": "dd846ef2-c6a5-4d2e-f202-9e0b54ebe151"
      },
      "cell_type": "code",
      "source": [
        "a_list = []\n",
        "for number in range(1, 6):\n",
        "  a_list += [number]\n",
        "  \n",
        "a_list"
      ],
      "execution_count": 82,
      "outputs": [
        {
          "output_type": "execute_result",
          "data": {
            "text/plain": [
              "[1, 2, 3, 4, 5]"
            ]
          },
          "metadata": {
            "tags": []
          },
          "execution_count": 82
        }
      ]
    },
    {
      "metadata": {
        "id": "938MJdIsbrlL",
        "colab_type": "text"
      },
      "cell_type": "markdown",
      "source": [
        "###ASIGNACION"
      ]
    },
    {
      "metadata": {
        "id": "DUp6v1E1ddf8",
        "colab_type": "code",
        "colab": {
          "base_uri": "https://localhost:8080/",
          "height": 34
        },
        "outputId": "31e609cd-79c1-4641-8ba1-f9f81294daf8"
      },
      "cell_type": "code",
      "source": [
        "plantas  = {161, 182, 161, 154, 176, 170, 167, 171, 170, 174}\n",
        "plantas.intersection(plantas)\n",
        "prom = sum(plantas)/ len(plantas)\n",
        "print(prom)"
      ],
      "execution_count": 107,
      "outputs": [
        {
          "output_type": "stream",
          "text": [
            "169.375\n"
          ],
          "name": "stdout"
        }
      ]
    }
  ]
}