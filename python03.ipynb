{
  "nbformat": 4,
  "nbformat_minor": 0,
  "metadata": {
    "colab": {
      "name": "python03.ipynb",
      "version": "0.3.2",
      "provenance": []
    },
    "kernelspec": {
      "name": "python3",
      "display_name": "Python 3"
    }
  },
  "cells": [
    {
      "metadata": {
        "id": "iJY5-VsdNsXn",
        "colab_type": "text"
      },
      "cell_type": "markdown",
      "source": [
        "#Estructura discretas \n",
        "##Jose Arpaia"
      ]
    },
    {
      "metadata": {
        "id": "qsItJVW9OF2P",
        "colab_type": "code",
        "colab": {
          "base_uri": "https://localhost:8080/",
          "height": 34
        },
        "outputId": "813b4e8a-0f54-4d83-c109-4b50cd043b83"
      },
      "cell_type": "code",
      "source": [
        "x = 12\n",
        "if x > 10:\n",
        "    print(\"POSITIVO!!\")"
      ],
      "execution_count": 6,
      "outputs": [
        {
          "output_type": "stream",
          "text": [
            "POSITIVO!!\n"
          ],
          "name": "stdout"
        }
      ]
    },
    {
      "metadata": {
        "id": "iN1kkog-PNUy",
        "colab_type": "code",
        "colab": {
          "base_uri": "https://localhost:8080/",
          "height": 34
        },
        "outputId": "0f25484b-8209-40fb-cdcf-6383e5884b96"
      },
      "cell_type": "code",
      "source": [
        "x = 9\n",
        "if x > 10:\n",
        "    print(\"MAYOR!!\")\n",
        "else:\n",
        "  print(\"MENOR!!\")"
      ],
      "execution_count": 9,
      "outputs": [
        {
          "output_type": "stream",
          "text": [
            "MENOR!!\n"
          ],
          "name": "stdout"
        }
      ]
    },
    {
      "metadata": {
        "id": "f1BdcUUDPjiX",
        "colab_type": "code",
        "colab": {
          "base_uri": "https://localhost:8080/",
          "height": 34
        },
        "outputId": "99314d68-7662-4143-f839-4f4e50d561ca"
      },
      "cell_type": "code",
      "source": [
        "x = 12\n",
        "y = 20\n",
        "if x > y:\n",
        "  print(\"Equis es el mayor\")\n",
        "elif x < y:\n",
        "  print(\"Ye es el mayor\")\n",
        "else:\n",
        "  print(\"Son iguales\")"
      ],
      "execution_count": 13,
      "outputs": [
        {
          "output_type": "stream",
          "text": [
            "Ye es el mayor\n"
          ],
          "name": "stdout"
        }
      ]
    },
    {
      "metadata": {
        "id": "VjDBPtWARSkU",
        "colab_type": "code",
        "colab": {
          "base_uri": "https://localhost:8080/",
          "height": 51
        },
        "outputId": "97eacfa1-77e7-4fae-9949-ee087592eebb"
      },
      "cell_type": "code",
      "source": [
        "x = 10\n",
        "y = 12\n",
        "if x > y:\n",
        "  print(\"Equis es el mayor\")\n",
        "elif x < y:\n",
        "    print(\"Ye es el mayor\")\n",
        "    if x==12:\n",
        "        print(\"x=12\")\n",
        "    else:\n",
        "        print(\"invalid\")\n",
        "else:\n",
        "  print(\"x=y\")"
      ],
      "execution_count": 20,
      "outputs": [
        {
          "output_type": "stream",
          "text": [
            "Ye es el mayor\n",
            "invalid\n"
          ],
          "name": "stdout"
        }
      ]
    },
    {
      "metadata": {
        "id": "LFWsMRgbR7Xq",
        "colab_type": "code",
        "colab": {
          "base_uri": "https://localhost:8080/",
          "height": 187
        },
        "outputId": "9d1cec81-5882-4d3f-8c47-10ac96ef569d"
      },
      "cell_type": "code",
      "source": [
        "for i in range(1,11):\n",
        "  print(i)"
      ],
      "execution_count": 29,
      "outputs": [
        {
          "output_type": "stream",
          "text": [
            "1\n",
            "2\n",
            "3\n",
            "4\n",
            "5\n",
            "6\n",
            "7\n",
            "8\n",
            "9\n",
            "10\n"
          ],
          "name": "stdout"
        }
      ]
    },
    {
      "metadata": {
        "id": "Que3Z9Q9Sdbn",
        "colab_type": "code",
        "colab": {
          "base_uri": "https://localhost:8080/",
          "height": 68
        },
        "outputId": "ee94e141-b526-4759-da53-edb36a896dfb"
      },
      "cell_type": "code",
      "source": [
        "list_of_lists = [[1, 2, 3] , [4, 5, 6] , [7, 8, 9]]\n",
        "for list1 in list_of_lists:\n",
        "  print(list1)"
      ],
      "execution_count": 31,
      "outputs": [
        {
          "output_type": "stream",
          "text": [
            "[1, 2, 3]\n",
            "[4, 5, 6]\n",
            "[7, 8, 9]\n"
          ],
          "name": "stdout"
        }
      ]
    },
    {
      "metadata": {
        "id": "2W00GVJSTfqG",
        "colab_type": "code",
        "colab": {
          "base_uri": "https://localhost:8080/",
          "height": 170
        },
        "outputId": "de653609-2f11-4533-b798-5bf646c8b2ff"
      },
      "cell_type": "code",
      "source": [
        "list_of_lists = [[1, 2, 3] , [4, 5, 6] , [7, 8, 9]]\n",
        "for list1 in list_of_lists:\n",
        "  for x in list1:\n",
        "    print(x)"
      ],
      "execution_count": 42,
      "outputs": [
        {
          "output_type": "stream",
          "text": [
            "1\n",
            "2\n",
            "3\n",
            "4\n",
            "5\n",
            "6\n",
            "7\n",
            "8\n",
            "9\n"
          ],
          "name": "stdout"
        }
      ]
    },
    {
      "metadata": {
        "id": "mvrYxYrTVwfA",
        "colab_type": "code",
        "colab": {
          "base_uri": "https://localhost:8080/",
          "height": 68
        },
        "outputId": "940a16d7-2bc7-44b8-ad97-cfa206c845e7"
      },
      "cell_type": "code",
      "source": [
        "i = 1\n",
        "while i < 3:\n",
        "  print(i**2)\n",
        "  i=i+1\n",
        "print('Bye')"
      ],
      "execution_count": 44,
      "outputs": [
        {
          "output_type": "stream",
          "text": [
            "1\n",
            "4\n",
            "Bye\n"
          ],
          "name": "stdout"
        }
      ]
    },
    {
      "metadata": {
        "id": "m6wMZ_J3WGIP",
        "colab_type": "code",
        "colab": {
          "base_uri": "https://localhost:8080/",
          "height": 204
        },
        "outputId": "e997c5d6-0d2e-4c2e-d5e2-5b9057d1d841"
      },
      "cell_type": "code",
      "source": [
        "for i in range(100):\n",
        "  print(i)\n",
        "  if i>=10:\n",
        "    break"
      ],
      "execution_count": 60,
      "outputs": [
        {
          "output_type": "stream",
          "text": [
            "0\n",
            "1\n",
            "2\n",
            "3\n",
            "4\n",
            "5\n",
            "6\n",
            "7\n",
            "8\n",
            "9\n",
            "10\n"
          ],
          "name": "stdout"
        }
      ]
    },
    {
      "metadata": {
        "id": "h3pyG1TEXEg2",
        "colab_type": "code",
        "colab": {
          "base_uri": "https://localhost:8080/",
          "height": 187
        },
        "outputId": "6449ef1b-5457-4e54-cefd-1ab7755b8281"
      },
      "cell_type": "code",
      "source": [
        "for i in range(10):\n",
        "  if i > 4:\n",
        "    print(\"The end\")\n",
        "    #continue\n",
        "  elif i<7:\n",
        "      print(i)"
      ],
      "execution_count": 71,
      "outputs": [
        {
          "output_type": "stream",
          "text": [
            "0\n",
            "1\n",
            "2\n",
            "3\n",
            "4\n",
            "The end\n",
            "The end\n",
            "The end\n",
            "The end\n",
            "The end\n"
          ],
          "name": "stdout"
        }
      ]
    },
    {
      "metadata": {
        "id": "UnrIjIUKXpq_",
        "colab_type": "code",
        "colab": {
          "base_uri": "https://localhost:8080/",
          "height": 34
        },
        "outputId": "67d3e786-23ff-43c8-b183-7530428daddc"
      },
      "cell_type": "code",
      "source": [
        "res = []\n",
        "for i in range(1, 11):\n",
        "  x =27*i\n",
        "  res.append(x)\n",
        "print(res)"
      ],
      "execution_count": 67,
      "outputs": [
        {
          "output_type": "stream",
          "text": [
            "[27, 54, 81, 108, 135, 162, 189, 216, 243, 270]\n"
          ],
          "name": "stdout"
        }
      ]
    },
    {
      "metadata": {
        "id": "_wBOCe1bYf3_",
        "colab_type": "code",
        "colab": {
          "base_uri": "https://localhost:8080/",
          "height": 34
        },
        "outputId": "71767ccc-fbef-445a-969e-aa42726e5918"
      },
      "cell_type": "code",
      "source": [
        "[27*x for x in range (1,20) if x<=10]"
      ],
      "execution_count": 74,
      "outputs": [
        {
          "output_type": "execute_result",
          "data": {
            "text/plain": [
              "[27, 54, 81, 108, 135, 162, 189, 216, 243, 270]"
            ]
          },
          "metadata": {
            "tags": []
          },
          "execution_count": 74
        }
      ]
    },
    {
      "metadata": {
        "id": "0xG8AwqxY4kx",
        "colab_type": "code",
        "colab": {
          "base_uri": "https://localhost:8080/",
          "height": 51
        },
        "outputId": "361de2ec-cc77-4356-f64b-0f24feb69304"
      },
      "cell_type": "code",
      "source": [
        "# establecer el numero que divide \n",
        "dividir =5 \n",
        "\n",
        "# crear dos listas\n",
        "bajos = []; altos = []\n",
        "\n",
        "# dividir las listas \n",
        "for i in range(10):\n",
        "  if (i < dividir):\n",
        "    bajos.append(i)\n",
        "  else: \n",
        "    altos.append(i)\n",
        "    \n",
        "print(\"bajos:\", bajos)\n",
        "print(\"altos:\", altos)"
      ],
      "execution_count": 78,
      "outputs": [
        {
          "output_type": "stream",
          "text": [
            "bajos: [0, 1, 2, 3, 4]\n",
            "altos: [5, 6, 7, 8, 9]\n"
          ],
          "name": "stdout"
        }
      ]
    }
  ]
}