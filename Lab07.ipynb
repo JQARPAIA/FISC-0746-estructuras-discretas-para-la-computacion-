{
  "nbformat": 4,
  "nbformat_minor": 0,
  "metadata": {
    "colab": {
      "name": "Lab07.ipynb",
      "version": "0.3.2",
      "provenance": [],
      "collapsed_sections": []
    },
    "kernelspec": {
      "name": "python3",
      "display_name": "Python 3"
    }
  },
  "cells": [
    {
      "cell_type": "markdown",
      "metadata": {
        "id": "_FISYKiUrW7Z",
        "colab_type": "text"
      },
      "source": [
        "#Laboratorio #07"
      ]
    },
    {
      "cell_type": "markdown",
      "metadata": {
        "id": "-yO9_xIJcZlS",
        "colab_type": "text"
      },
      "source": [
        "###1- Crea una funcion que retorne el numero mayor de una lista."
      ]
    },
    {
      "cell_type": "code",
      "metadata": {
        "id": "3bp3GiIUcTM7",
        "colab_type": "code",
        "colab": {}
      },
      "source": [
        "def mayor(a):\n",
        "  may=0\n",
        "  for i in range(1,len(a)):\n",
        "    if a[i]>may:\n",
        "      may=a[i]\n",
        "  return may"
      ],
      "execution_count": 0,
      "outputs": []
    },
    {
      "cell_type": "code",
      "metadata": {
        "id": "w9Nxt_CFrE4U",
        "colab_type": "code",
        "colab": {
          "base_uri": "https://localhost:8080/",
          "height": 34
        },
        "outputId": "5e1fc943-add5-42b9-a341-1057d0242534"
      },
      "source": [
        "list01=[15,52,14,10,103,13,62]\n",
        "a = mayor(list01)\n",
        "print(\"El mayor es: \"+str(a))\n"
      ],
      "execution_count": 163,
      "outputs": [
        {
          "output_type": "stream",
          "text": [
            "El mayor es: 103\n"
          ],
          "name": "stdout"
        }
      ]
    },
    {
      "cell_type": "markdown",
      "metadata": {
        "id": "ObcXnGmfrFmj",
        "colab_type": "text"
      },
      "source": [
        "###2- Crear funcion que orderne una lista descendentemente."
      ]
    },
    {
      "cell_type": "code",
      "metadata": {
        "id": "BPD1bThbhC6f",
        "colab_type": "code",
        "colab": {}
      },
      "source": [
        "def descen(a):\n",
        "  temp=0\n",
        "  for i in range(0,len(a)-1):\n",
        "    for j in range(i,(len(a))):\n",
        "      if a[i]<=a[j]:\n",
        "        temp=a[j]\n",
        "        a[j]=a[i]\n",
        "        a[i]=temp\n",
        "  return a"
      ],
      "execution_count": 0,
      "outputs": []
    },
    {
      "cell_type": "code",
      "metadata": {
        "id": "Nx5_XuungFyE",
        "colab_type": "code",
        "colab": {
          "base_uri": "https://localhost:8080/",
          "height": 34
        },
        "outputId": "ab3f7c9f-b3c3-4ba1-9738-a164271ff912"
      },
      "source": [
        "list01=[15,52,14,10,103,13,62]\n",
        "descen(list01)\n",
        "print(descen(list01))\n"
      ],
      "execution_count": 165,
      "outputs": [
        {
          "output_type": "stream",
          "text": [
            "[103, 62, 52, 15, 14, 13, 10]\n"
          ],
          "name": "stdout"
        }
      ]
    },
    {
      "cell_type": "markdown",
      "metadata": {
        "id": "egagwJQRrO2N",
        "colab_type": "text"
      },
      "source": [
        "###3- Crear una funcion que regrese TRUE si el numero es divisible entre 7 y no es multiplo de 5.\n",
        "\n"
      ]
    },
    {
      "cell_type": "code",
      "metadata": {
        "id": "rLb-iGafrTjN",
        "colab_type": "code",
        "colab": {}
      },
      "source": [
        "def func(a):\n",
        "  for i in a:\n",
        "      if i%7==0 and i%5!=0:\n",
        "        print(\"TRUE\")\n",
        "      else:\n",
        "        print(i)"
      ],
      "execution_count": 0,
      "outputs": []
    },
    {
      "cell_type": "code",
      "metadata": {
        "id": "sLId3yT-iljn",
        "colab_type": "code",
        "colab": {
          "base_uri": "https://localhost:8080/",
          "height": 187
        },
        "outputId": "b2489050-2704-446f-832f-5305bb5c2001"
      },
      "source": [
        "list01=[15,52,14,35,63,10,103,13,62]\n",
        "print(func(list01))"
      ],
      "execution_count": 197,
      "outputs": [
        {
          "output_type": "stream",
          "text": [
            "15\n",
            "52\n",
            "TRUE\n",
            "35\n",
            "TRUE\n",
            "10\n",
            "103\n",
            "13\n",
            "62\n",
            "None\n"
          ],
          "name": "stdout"
        }
      ]
    },
    {
      "cell_type": "markdown",
      "metadata": {
        "id": "Cd0DiLx8rRy1",
        "colab_type": "text"
      },
      "source": [
        "###4- Crear una funcion que evalue si el numero es primo."
      ]
    },
    {
      "cell_type": "code",
      "metadata": {
        "id": "BG-bm00vrUCm",
        "colab_type": "code",
        "colab": {}
      },
      "source": [
        "def primo(a):\n",
        "  for i in a:\n",
        "    x=i+1\n",
        "    cont=0\n",
        "    for j in range(1, x):\n",
        "      if i%j==0:\n",
        "        cont+=1\n",
        "    if cont==2:\n",
        "      print(str(i)+\" numero primo.\")\n",
        "    else:\n",
        "      print(str(i)+\" no es numero primo.\")"
      ],
      "execution_count": 0,
      "outputs": []
    },
    {
      "cell_type": "code",
      "metadata": {
        "id": "HS55ZsQilSgn",
        "colab_type": "code",
        "colab": {
          "base_uri": "https://localhost:8080/",
          "height": 170
        },
        "outputId": "8a381804-6b6e-4976-dbda-3f15b9db3efb"
      },
      "source": [
        "list01=[1, 2, 3, 13, 35, 103, 62, 152]\n",
        "print(primo(list01))"
      ],
      "execution_count": 183,
      "outputs": [
        {
          "output_type": "stream",
          "text": [
            "1 no es numero primo.\n",
            "2 numero primo.\n",
            "3 numero primo.\n",
            "13 numero primo.\n",
            "35 no es numero primo.\n",
            "103 numero primo.\n",
            "62 no es numero primo.\n",
            "152 no es numero primo.\n",
            "None\n"
          ],
          "name": "stdout"
        }
      ]
    }
  ]
}