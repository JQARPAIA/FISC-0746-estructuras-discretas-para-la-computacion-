{
  "nbformat": 4,
  "nbformat_minor": 0,
  "metadata": {
    "colab": {
      "name": "Copy of Python01.ipynb",
      "version": "0.3.2",
      "provenance": []
    },
    "kernelspec": {
      "name": "python3",
      "display_name": "Python 3"
    }
  },
  "cells": [
    {
      "metadata": {
        "id": "_gmZI7D4giEZ",
        "colab_type": "text"
      },
      "cell_type": "markdown",
      "source": [
        "#UNIVERSIDAD TECNOLÓGICA DE PANAMÁ\n",
        "##FACULTAD DE INGENIERÍA DE SISTEMAS COMPUTACIONALES\n",
        "##DEPARTAMENTO DE COMPUTACIÓN Y SIMULACIÓN DE SISTEMAS\n",
        "\n",
        "##ESTRUCTURAS DISCRETAS PARA LA COMPUTACIÓN\n",
        "\n",
        "## Profesor: Ezequiel Aguilar González\n",
        "\n"
      ]
    },
    {
      "metadata": {
        "id": "VBhLRiBJyi1B",
        "colab_type": "text"
      },
      "cell_type": "markdown",
      "source": [
        "## Inicializar un conjunto"
      ]
    },
    {
      "metadata": {
        "id": "aOSvH0zmyobi",
        "colab_type": "code",
        "colab": {
          "base_uri": "https://localhost:8080/",
          "height": 34
        },
        "outputId": "e1699ae0-f112-416b-bb48-8cdfd6bb0c22"
      },
      "cell_type": "code",
      "source": [
        "vacioSet = set()\n",
        "vacioSet"
      ],
      "execution_count": 6,
      "outputs": [
        {
          "output_type": "execute_result",
          "data": {
            "text/plain": [
              "set()"
            ]
          },
          "metadata": {
            "tags": []
          },
          "execution_count": 6
        }
      ]
    },
    {
      "metadata": {
        "id": "qlQxp4LFywQ3",
        "colab_type": "text"
      },
      "cell_type": "markdown",
      "source": [
        "## Inicializar con valores\n"
      ]
    },
    {
      "metadata": {
        "id": "wgcDg3_4y01T",
        "colab_type": "code",
        "colab": {}
      },
      "cell_type": "code",
      "source": [
        "# dataScientist = set(['Python', 'R', 'SQL', 'Git', 'Tableau', 'SAS'])\n",
        "dataEngineer = set(['Python', 'Java', 'Scala', 'Git', 'SQL', 'Hadoop'])"
      ],
      "execution_count": 0,
      "outputs": []
    },
    {
      "metadata": {
        "id": "wQh9ePlKy7ch",
        "colab_type": "text"
      },
      "cell_type": "markdown",
      "source": [
        "## Asignación: Imprimir los valores de dataScientist y dataEngineer"
      ]
    },
    {
      "metadata": {
        "id": "IIBmCwLHzEWo",
        "colab_type": "code",
        "colab": {
          "base_uri": "https://localhost:8080/",
          "height": 34
        },
        "outputId": "b227f548-837c-436b-dfdd-8f569ce6aeb5"
      },
      "cell_type": "code",
      "source": [
        "dataScientist"
      ],
      "execution_count": 11,
      "outputs": [
        {
          "output_type": "execute_result",
          "data": {
            "text/plain": [
              "{'Git', 'Python', 'R', 'SAS', 'SQL', 'Tableau'}"
            ]
          },
          "metadata": {
            "tags": []
          },
          "execution_count": 11
        }
      ]
    },
    {
      "metadata": {
        "id": "0n6c9h8IzGWv",
        "colab_type": "code",
        "colab": {
          "base_uri": "https://localhost:8080/",
          "height": 34
        },
        "outputId": "6045adce-108b-40e6-8c96-6b58882d25b6"
      },
      "cell_type": "code",
      "source": [
        "dataEngineer"
      ],
      "execution_count": 12,
      "outputs": [
        {
          "output_type": "execute_result",
          "data": {
            "text/plain": [
              "{'Git', 'Hadoop', 'Java', 'Python', 'SQL', 'Scala'}"
            ]
          },
          "metadata": {
            "tags": []
          },
          "execution_count": 12
        }
      ]
    },
    {
      "metadata": {
        "id": "ssjqd7GFzEuw",
        "colab_type": "text"
      },
      "cell_type": "markdown",
      "source": [
        "## Otra forma de inicialización\n"
      ]
    },
    {
      "metadata": {
        "id": "tH_7F-aOzR5i",
        "colab_type": "code",
        "colab": {}
      },
      "cell_type": "code",
      "source": [
        "dataScientist = {'Python', 'R', 'SQL', 'Git', 'Tableau', 'SAS'}\n",
        "dataEngineer = {'Python', 'Java', 'Scala', 'Git', 'SQL', 'Hadoop'}"
      ],
      "execution_count": 0,
      "outputs": []
    },
    {
      "metadata": {
        "id": "YOpWKoxUzWAF",
        "colab_type": "text"
      },
      "cell_type": "markdown",
      "source": [
        "## Agregar o remover elementos"
      ]
    },
    {
      "metadata": {
        "id": "2G7pbZGKzgZS",
        "colab_type": "code",
        "colab": {}
      },
      "cell_type": "code",
      "source": [
        "graphicDesigner = {'InDesign', 'Photoshop', 'Acrobat', 'Premiere', 'Bridge'}"
      ],
      "execution_count": 0,
      "outputs": []
    },
    {
      "metadata": {
        "id": "J4T1l18rzmfz",
        "colab_type": "text"
      },
      "cell_type": "markdown",
      "source": [
        "### Agregar valores\n"
      ]
    },
    {
      "metadata": {
        "id": "qLukEDnyzj1g",
        "colab_type": "code",
        "colab": {}
      },
      "cell_type": "code",
      "source": [
        "graphicDesigner.add('Illustrator')"
      ],
      "execution_count": 0,
      "outputs": []
    },
    {
      "metadata": {
        "id": "DV93Y3yCOsub",
        "colab_type": "code",
        "colab": {
          "base_uri": "https://localhost:8080/",
          "height": 34
        },
        "outputId": "e77f0004-5c70-42a5-f115-d62b6785d95a"
      },
      "cell_type": "code",
      "source": [
        "graphicDesigner"
      ],
      "execution_count": 15,
      "outputs": [
        {
          "output_type": "execute_result",
          "data": {
            "text/plain": [
              "{'Acrobat', 'Bridge', 'Illustrator', 'InDesign', 'Photoshop', 'Premiere'}"
            ]
          },
          "metadata": {
            "tags": []
          },
          "execution_count": 15
        }
      ]
    },
    {
      "metadata": {
        "id": "UIRT4OAgzvof",
        "colab_type": "code",
        "colab": {}
      },
      "cell_type": "code",
      "source": [
        "graphicDesigner.remove('Illustrator')"
      ],
      "execution_count": 0,
      "outputs": []
    },
    {
      "metadata": {
        "id": "OoafuAdcO8w6",
        "colab_type": "code",
        "colab": {
          "base_uri": "https://localhost:8080/",
          "height": 34
        },
        "outputId": "c368b5e6-a80c-47ca-f8d5-fc8f6decc07a"
      },
      "cell_type": "code",
      "source": [
        "graphicDesigner"
      ],
      "execution_count": 19,
      "outputs": [
        {
          "output_type": "execute_result",
          "data": {
            "text/plain": [
              "{'Acrobat', 'Bridge', 'InDesign', 'Photoshop', 'Premiere'}"
            ]
          },
          "metadata": {
            "tags": []
          },
          "execution_count": 19
        }
      ]
    },
    {
      "metadata": {
        "id": "fT4oP3kVPtmK",
        "colab_type": "text"
      },
      "cell_type": "markdown",
      "source": [
        "###Eliminar todos los elementos del conjunto###\n"
      ]
    },
    {
      "metadata": {
        "id": "KShWz0niz2RK",
        "colab_type": "code",
        "colab": {}
      },
      "cell_type": "code",
      "source": [
        "graphicDesigner.clear()"
      ],
      "execution_count": 0,
      "outputs": []
    },
    {
      "metadata": {
        "id": "caENBLRiz6Bl",
        "colab_type": "code",
        "colab": {
          "base_uri": "https://localhost:8080/",
          "height": 119
        },
        "outputId": "aa2f9558-d602-4cb2-d359-88e1d86c4c6f"
      },
      "cell_type": "code",
      "source": [
        "dataScientist = {'Python', 'R', 'SQL', 'Git', 'Tableau', 'SAS'}\n",
        "\n",
        "for skill in dataScientist:\n",
        "    print(skill)"
      ],
      "execution_count": 20,
      "outputs": [
        {
          "output_type": "stream",
          "text": [
            "SQL\n",
            "Git\n",
            "SAS\n",
            "R\n",
            "Python\n",
            "Tableau\n"
          ],
          "name": "stdout"
        }
      ]
    },
    {
      "metadata": {
        "id": "G8rNKN4dz7WX",
        "colab_type": "code",
        "outputId": "cc1b4df2-4d2f-4b23-e77a-fd8a657a13a3",
        "colab": {
          "base_uri": "https://localhost:8080/",
          "height": 34
        }
      },
      "cell_type": "code",
      "source": [
        "sorted(dataScientist, reverse = True)"
      ],
      "execution_count": 24,
      "outputs": [
        {
          "output_type": "execute_result",
          "data": {
            "text/plain": [
              "['Tableau', 'SQL', 'SAS', 'R', 'Python', 'Git']"
            ]
          },
          "metadata": {
            "tags": []
          },
          "execution_count": 24
        }
      ]
    },
    {
      "metadata": {
        "id": "kF1UCX4J0HqH",
        "colab_type": "code",
        "colab": {}
      },
      "cell_type": "code",
      "source": [
        "dataScientist = set(['Python', 'R', 'SQL', 'Git', 'Tableau', 'SAS'])\n",
        "dataEngineer = set(['Python', 'Java', 'Scala', 'Git', 'SQL', 'Hadoop'])"
      ],
      "execution_count": 0,
      "outputs": []
    },
    {
      "metadata": {
        "id": "4WSpEtkR0Pzh",
        "colab_type": "code",
        "outputId": "832fa1b8-cc53-4f75-a7ed-f8939b56bf9b",
        "colab": {
          "base_uri": "https://localhost:8080/",
          "height": 34
        }
      },
      "cell_type": "code",
      "source": [
        "\n",
        "dataScientist.union(dataEngineer)\n",
        "\n",
        "dataScientist | dataEngineer"
      ],
      "execution_count": 26,
      "outputs": [
        {
          "output_type": "execute_result",
          "data": {
            "text/plain": [
              "{'Git', 'Hadoop', 'Java', 'Python', 'R', 'SAS', 'SQL', 'Scala', 'Tableau'}"
            ]
          },
          "metadata": {
            "tags": []
          },
          "execution_count": 26
        }
      ]
    },
    {
      "metadata": {
        "id": "7YG0w7arRbr8",
        "colab_type": "code",
        "colab": {
          "base_uri": "https://localhost:8080/",
          "height": 34
        },
        "outputId": "b758c24c-ce75-4703-8ca5-8352b4b3d671"
      },
      "cell_type": "code",
      "source": [
        "dataEngineer.union(dataScientist)"
      ],
      "execution_count": 27,
      "outputs": [
        {
          "output_type": "execute_result",
          "data": {
            "text/plain": [
              "{'Git', 'Hadoop', 'Java', 'Python', 'R', 'SAS', 'SQL', 'Scala', 'Tableau'}"
            ]
          },
          "metadata": {
            "tags": []
          },
          "execution_count": 27
        }
      ]
    },
    {
      "metadata": {
        "id": "P_H61ft6Ronl",
        "colab_type": "code",
        "colab": {
          "base_uri": "https://localhost:8080/",
          "height": 34
        },
        "outputId": "19e6e205-b946-4b47-dd03-36d7a2cecf30"
      },
      "cell_type": "code",
      "source": [
        "dataScientist |dataEngineer"
      ],
      "execution_count": 30,
      "outputs": [
        {
          "output_type": "execute_result",
          "data": {
            "text/plain": [
              "{'Git', 'Hadoop', 'Java', 'Python', 'R', 'SAS', 'SQL', 'Scala', 'Tableau'}"
            ]
          },
          "metadata": {
            "tags": []
          },
          "execution_count": 30
        }
      ]
    },
    {
      "metadata": {
        "id": "7e3809cdSWfl",
        "colab_type": "code",
        "colab": {
          "base_uri": "https://localhost:8080/",
          "height": 34
        },
        "outputId": "64c442dd-cd26-4970-b96e-02b6f287b823"
      },
      "cell_type": "code",
      "source": [
        "sorted(dataScientist |dataEngineer, reverse = False)"
      ],
      "execution_count": 40,
      "outputs": [
        {
          "output_type": "execute_result",
          "data": {
            "text/plain": [
              "['Git', 'Hadoop', 'Java', 'Python', 'R', 'SAS', 'SQL', 'Scala', 'Tableau']"
            ]
          },
          "metadata": {
            "tags": []
          },
          "execution_count": 40
        }
      ]
    },
    {
      "metadata": {
        "id": "2Gmoj8ajS3Jq",
        "colab_type": "text"
      },
      "cell_type": "markdown",
      "source": [
        "###Interseccion###"
      ]
    },
    {
      "metadata": {
        "id": "0-lwL_6m0XTw",
        "colab_type": "code",
        "outputId": "ee9b8bae-e17a-4b46-f128-96c7e9574e0e",
        "colab": {
          "base_uri": "https://localhost:8080/",
          "height": 34
        }
      },
      "cell_type": "code",
      "source": [
        "# Intersection operation\n",
        "dataScientist.intersection(dataEngineer)\n",
        "\n",
        "# Equivalent Result\n",
        "dataScientist & dataEngineer"
      ],
      "execution_count": 34,
      "outputs": [
        {
          "output_type": "execute_result",
          "data": {
            "text/plain": [
              "{'Git', 'Python', 'SQL'}"
            ]
          },
          "metadata": {
            "tags": []
          },
          "execution_count": 34
        }
      ]
    },
    {
      "metadata": {
        "id": "Eiwkz2eq0c2_",
        "colab_type": "code",
        "outputId": "4a324f3c-30f0-46cf-84c6-d65818aee328",
        "colab": {
          "base_uri": "https://localhost:8080/",
          "height": 34
        }
      },
      "cell_type": "code",
      "source": [
        "# Initialize a set\n",
        "graphicDesigner = {'Illustrator', 'InDesign', 'Photoshop'}\n",
        "\n",
        "# These sets have elements in common so it would return False\n",
        "dataScientist.isdisjoint(dataEngineer)\n",
        "\n",
        "# These sets have no elements in common so it would return True\n",
        "dataScientist.isdisjoint(graphicDesigner)"
      ],
      "execution_count": 41,
      "outputs": [
        {
          "output_type": "execute_result",
          "data": {
            "text/plain": [
              "True"
            ]
          },
          "metadata": {
            "tags": []
          },
          "execution_count": 41
        }
      ]
    },
    {
      "metadata": {
        "id": "XsH6ngYRTgKv",
        "colab_type": "text"
      },
      "cell_type": "markdown",
      "source": [
        "###Diferencia###"
      ]
    },
    {
      "metadata": {
        "id": "tpkuheqT0ghB",
        "colab_type": "code",
        "outputId": "865b72ac-d4a8-4023-dfa9-f49d91c157e7",
        "colab": {
          "base_uri": "https://localhost:8080/",
          "height": 34
        }
      },
      "cell_type": "code",
      "source": [
        "# Difference Operation\n",
        "dataScientist.difference(dataEngineer)\n",
        "\n",
        "# Equivalent Result\n",
        "dataScientist - dataEngineer"
      ],
      "execution_count": 42,
      "outputs": [
        {
          "output_type": "execute_result",
          "data": {
            "text/plain": [
              "{'R', 'SAS', 'Tableau'}"
            ]
          },
          "metadata": {
            "tags": []
          },
          "execution_count": 42
        }
      ]
    },
    {
      "metadata": {
        "id": "YeCA33wtTp_G",
        "colab_type": "code",
        "colab": {
          "base_uri": "https://localhost:8080/",
          "height": 34
        },
        "outputId": "362f22af-0589-4761-adef-c5449d656f77"
      },
      "cell_type": "code",
      "source": [
        "dataEngineer.difference(dataScientist)"
      ],
      "execution_count": 43,
      "outputs": [
        {
          "output_type": "execute_result",
          "data": {
            "text/plain": [
              "{'Hadoop', 'Java', 'Scala'}"
            ]
          },
          "metadata": {
            "tags": []
          },
          "execution_count": 43
        }
      ]
    },
    {
      "metadata": {
        "id": "d5KbAwv1UgUb",
        "colab_type": "code",
        "colab": {
          "base_uri": "https://localhost:8080/",
          "height": 34
        },
        "outputId": "66794a35-f613-45b3-b8d5-9a4e967eb636"
      },
      "cell_type": "code",
      "source": [
        "dataEngineer.isdisjoint(dataScientist)"
      ],
      "execution_count": 44,
      "outputs": [
        {
          "output_type": "execute_result",
          "data": {
            "text/plain": [
              "False"
            ]
          },
          "metadata": {
            "tags": []
          },
          "execution_count": 44
        }
      ]
    },
    {
      "metadata": {
        "id": "EhweEtDs0jzD",
        "colab_type": "code",
        "outputId": "3c41e557-4946-41a4-8782-8bc58e404508",
        "colab": {
          "base_uri": "https://localhost:8080/",
          "height": 36
        }
      },
      "cell_type": "code",
      "source": [
        "# Symmetric Difference Operation\n",
        "dataScientist.symmetric_difference(dataEngineer)\n",
        "\n",
        "# Equivalent Result\n",
        "dataScientist ^ dataEngineer"
      ],
      "execution_count": 0,
      "outputs": [
        {
          "output_type": "execute_result",
          "data": {
            "text/plain": [
              "{'Hadoop', 'Java', 'R', 'SAS', 'Scala', 'Tableau'}"
            ]
          },
          "metadata": {
            "tags": []
          },
          "execution_count": 15
        }
      ]
    },
    {
      "metadata": {
        "id": "qxyT_HvL0pvA",
        "colab_type": "code",
        "outputId": "eda1ac79-c221-4f42-d0ee-a68f769a028e",
        "colab": {
          "base_uri": "https://localhost:8080/",
          "height": 34
        }
      },
      "cell_type": "code",
      "source": [
        "# Initialize a list\n",
        "possibleList = ['Python', 'R', 'SQL', 'Git', 'Tableau', 'SAS', 'Java', 'Spark', 'Scala']\n",
        "\n",
        "# Membership test\n",
        "'Python' in possibleList"
      ],
      "execution_count": 45,
      "outputs": [
        {
          "output_type": "execute_result",
          "data": {
            "text/plain": [
              "True"
            ]
          },
          "metadata": {
            "tags": []
          },
          "execution_count": 45
        }
      ]
    },
    {
      "metadata": {
        "id": "QpqHJcLFVGmF",
        "colab_type": "code",
        "colab": {
          "base_uri": "https://localhost:8080/",
          "height": 34
        },
        "outputId": "48b9ca4d-9073-41e7-b541-4ee22ebf2929"
      },
      "cell_type": "code",
      "source": [
        "'C++' in possibleList"
      ],
      "execution_count": 47,
      "outputs": [
        {
          "output_type": "execute_result",
          "data": {
            "text/plain": [
              "False"
            ]
          },
          "metadata": {
            "tags": []
          },
          "execution_count": 47
        }
      ]
    },
    {
      "metadata": {
        "id": "bx95g_c00vOS",
        "colab_type": "code",
        "colab": {}
      },
      "cell_type": "code",
      "source": [
        "possibleSkills = {'Python', 'R', 'SQL', 'Git', 'Tableau', 'SAS'}\n",
        "mySkills = {'Python', 'R', 'j'}"
      ],
      "execution_count": 0,
      "outputs": []
    },
    {
      "metadata": {
        "id": "ctq4ea6q0xCV",
        "colab_type": "code",
        "colab": {
          "base_uri": "https://localhost:8080/",
          "height": 34
        },
        "outputId": "d68f33fa-d85c-413a-9b27-2251b136d667"
      },
      "cell_type": "code",
      "source": [
        "mySkills.issubset(possibleSkills)"
      ],
      "execution_count": 51,
      "outputs": [
        {
          "output_type": "execute_result",
          "data": {
            "text/plain": [
              "False"
            ]
          },
          "metadata": {
            "tags": []
          },
          "execution_count": 51
        }
      ]
    },
    {
      "metadata": {
        "id": "AGy0vFAz01Ne",
        "colab_type": "text"
      },
      "cell_type": "markdown",
      "source": [
        "##Tarea\n",
        "\n",
        "\n",
        "\n",
        "1.   Crear tres grupos (ejem: Casas de Game of Thrones). Maximo 4 elementos\n",
        "2.   Aplicar operaciones de inteseccion, union, diferencia, pertenencia.\n",
        "3.   Enviar al correo ezequiel.aguilar@utp.ac.pa\n",
        "\n"
      ]
    },
    {
      "metadata": {
        "id": "FCRlmHgYV-aT",
        "colab_type": "code",
        "colab": {}
      },
      "cell_type": "code",
      "source": [
        "EquiposUCL = set(['Juventus','Napoli','ManU','Liverpool', 'RM', 'Barca'])\n",
        "EquiposITA = set(['Juventus', 'Napoli'])\n",
        "EquiposENG = set(['Liverpool', 'ManU'])\n",
        "EquiposESP = set(['RM', 'Barca'])"
      ],
      "execution_count": 0,
      "outputs": []
    },
    {
      "metadata": {
        "id": "Y0ZMoT74XGj2",
        "colab_type": "text"
      },
      "cell_type": "markdown",
      "source": [
        "###Interseccion"
      ]
    },
    {
      "metadata": {
        "id": "NWMcBaD2WzkJ",
        "colab_type": "code",
        "colab": {
          "base_uri": "https://localhost:8080/",
          "height": 34
        },
        "outputId": "7970e600-709b-4478-ccf4-ae7fd0486e67"
      },
      "cell_type": "code",
      "source": [
        "EquiposESP.intersection(EquiposUCL)"
      ],
      "execution_count": 57,
      "outputs": [
        {
          "output_type": "execute_result",
          "data": {
            "text/plain": [
              "{'Barca', 'RM'}"
            ]
          },
          "metadata": {
            "tags": []
          },
          "execution_count": 57
        }
      ]
    },
    {
      "metadata": {
        "id": "AmnZixNDXm15",
        "colab_type": "code",
        "colab": {
          "base_uri": "https://localhost:8080/",
          "height": 34
        },
        "outputId": "6bae1954-7289-461c-8d52-959dcbf7855e"
      },
      "cell_type": "code",
      "source": [
        "EquiposUCL & EquiposITA"
      ],
      "execution_count": 61,
      "outputs": [
        {
          "output_type": "execute_result",
          "data": {
            "text/plain": [
              "{'Juventus', 'Napoli'}"
            ]
          },
          "metadata": {
            "tags": []
          },
          "execution_count": 61
        }
      ]
    },
    {
      "metadata": {
        "id": "owZn2spfXKNt",
        "colab_type": "text"
      },
      "cell_type": "markdown",
      "source": [
        "###Union"
      ]
    },
    {
      "metadata": {
        "id": "oCjr_XJkXL6_",
        "colab_type": "code",
        "colab": {
          "base_uri": "https://localhost:8080/",
          "height": 34
        },
        "outputId": "7e442962-857e-4a81-f2f4-47ac1d8e02f0"
      },
      "cell_type": "code",
      "source": [
        "EquiposESP |EquiposITA"
      ],
      "execution_count": 58,
      "outputs": [
        {
          "output_type": "execute_result",
          "data": {
            "text/plain": [
              "{'Barca', 'Juventus', 'Napoli', 'RM'}"
            ]
          },
          "metadata": {
            "tags": []
          },
          "execution_count": 58
        }
      ]
    },
    {
      "metadata": {
        "id": "gThTh6QiXM1p",
        "colab_type": "text"
      },
      "cell_type": "markdown",
      "source": [
        "###Diferencia"
      ]
    },
    {
      "metadata": {
        "id": "1Gd0DQ-CXP50",
        "colab_type": "code",
        "colab": {
          "base_uri": "https://localhost:8080/",
          "height": 34
        },
        "outputId": "1fe79296-5f1e-4423-a2ca-183cb3cebad1"
      },
      "cell_type": "code",
      "source": [
        "EquiposUCL - EquiposENG"
      ],
      "execution_count": 59,
      "outputs": [
        {
          "output_type": "execute_result",
          "data": {
            "text/plain": [
              "{'Barca', 'Juventus', 'Napoli', 'RM'}"
            ]
          },
          "metadata": {
            "tags": []
          },
          "execution_count": 59
        }
      ]
    },
    {
      "metadata": {
        "id": "HhxJ4Qy0XtW5",
        "colab_type": "code",
        "colab": {
          "base_uri": "https://localhost:8080/",
          "height": 34
        },
        "outputId": "c7dcdf9f-56a0-4de4-d70c-090f0883afee"
      },
      "cell_type": "code",
      "source": [
        "EquiposUCL.difference(EquiposITA)"
      ],
      "execution_count": 62,
      "outputs": [
        {
          "output_type": "execute_result",
          "data": {
            "text/plain": [
              "{'Barca', 'Liverpool', 'ManU', 'RM'}"
            ]
          },
          "metadata": {
            "tags": []
          },
          "execution_count": 62
        }
      ]
    },
    {
      "metadata": {
        "id": "t3y2Slv0XRBm",
        "colab_type": "text"
      },
      "cell_type": "markdown",
      "source": [
        "###Pertenencia"
      ]
    },
    {
      "metadata": {
        "id": "ORVgLtQWXTZ9",
        "colab_type": "code",
        "colab": {
          "base_uri": "https://localhost:8080/",
          "height": 34
        },
        "outputId": "70241db9-cd7a-4190-bc95-094392d4363a"
      },
      "cell_type": "code",
      "source": [
        "EquiposITA.issubset(EquiposUCL)"
      ],
      "execution_count": 60,
      "outputs": [
        {
          "output_type": "execute_result",
          "data": {
            "text/plain": [
              "True"
            ]
          },
          "metadata": {
            "tags": []
          },
          "execution_count": 60
        }
      ]
    }
  ]
}